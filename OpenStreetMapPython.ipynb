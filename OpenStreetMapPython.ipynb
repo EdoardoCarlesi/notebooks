{
  "nbformat": 4,
  "nbformat_minor": 0,
  "metadata": {
    "colab": {
      "name": "OpenStreetMapPython.ipynb",
      "provenance": [],
      "authorship_tag": "ABX9TyPVaUEOONmI49S7zFfF1d8v",
      "include_colab_link": true
    },
    "kernelspec": {
      "name": "python3",
      "display_name": "Python 3"
    },
    "language_info": {
      "name": "python"
    }
  },
  "cells": [
    {
      "cell_type": "markdown",
      "metadata": {
        "id": "view-in-github",
        "colab_type": "text"
      },
      "source": [
        "<a href=\"https://colab.research.google.com/github/EdoardoCarlesi/notebooks/blob/main/OpenStreetMapPython.ipynb\" target=\"_parent\"><img src=\"https://colab.research.google.com/assets/colab-badge.svg\" alt=\"Open In Colab\"/></a>"
      ]
    },
    {
      "cell_type": "code",
      "metadata": {
        "id": "mLaFg0TE6cVV",
        "colab": {
          "base_uri": "https://localhost:8080/"
        },
        "outputId": "f505568b-79a7-45a1-a68c-ec33ceda6407"
      },
      "source": [
        "!pip install OSMPythonTools"
      ],
      "execution_count": null,
      "outputs": [
        {
          "output_type": "stream",
          "name": "stdout",
          "text": [
            "Collecting OSMPythonTools\n",
            "  Downloading OSMPythonTools-0.3.2.tar.gz (13 kB)\n",
            "Requirement already satisfied: beautifulsoup4 in /usr/local/lib/python3.7/dist-packages (from OSMPythonTools) (4.6.3)\n",
            "Collecting geojson\n",
            "  Downloading geojson-2.5.0-py2.py3-none-any.whl (14 kB)\n",
            "Requirement already satisfied: lxml in /usr/local/lib/python3.7/dist-packages (from OSMPythonTools) (4.2.6)\n",
            "Requirement already satisfied: matplotlib in /usr/local/lib/python3.7/dist-packages (from OSMPythonTools) (3.2.2)\n",
            "Requirement already satisfied: numpy in /usr/local/lib/python3.7/dist-packages (from OSMPythonTools) (1.19.5)\n",
            "Requirement already satisfied: pandas in /usr/local/lib/python3.7/dist-packages (from OSMPythonTools) (1.1.5)\n",
            "Requirement already satisfied: pytest in /usr/local/lib/python3.7/dist-packages (from OSMPythonTools) (3.6.4)\n",
            "Collecting pytest-sugar\n",
            "  Downloading pytest-sugar-0.9.4.tar.gz (12 kB)\n",
            "Collecting ujson\n",
            "  Downloading ujson-4.1.0-cp37-cp37m-manylinux_2_5_x86_64.manylinux1_x86_64.whl (178 kB)\n",
            "\u001b[K     |████████████████████████████████| 178 kB 7.1 MB/s \n",
            "\u001b[?25hRequirement already satisfied: xarray in /usr/local/lib/python3.7/dist-packages (from OSMPythonTools) (0.18.2)\n",
            "Requirement already satisfied: python-dateutil>=2.1 in /usr/local/lib/python3.7/dist-packages (from matplotlib->OSMPythonTools) (2.8.2)\n",
            "Requirement already satisfied: kiwisolver>=1.0.1 in /usr/local/lib/python3.7/dist-packages (from matplotlib->OSMPythonTools) (1.3.1)\n",
            "Requirement already satisfied: cycler>=0.10 in /usr/local/lib/python3.7/dist-packages (from matplotlib->OSMPythonTools) (0.10.0)\n",
            "Requirement already satisfied: pyparsing!=2.0.4,!=2.1.2,!=2.1.6,>=2.0.1 in /usr/local/lib/python3.7/dist-packages (from matplotlib->OSMPythonTools) (2.4.7)\n",
            "Requirement already satisfied: six in /usr/local/lib/python3.7/dist-packages (from cycler>=0.10->matplotlib->OSMPythonTools) (1.15.0)\n",
            "Requirement already satisfied: pytz>=2017.2 in /usr/local/lib/python3.7/dist-packages (from pandas->OSMPythonTools) (2018.9)\n",
            "Requirement already satisfied: pluggy<0.8,>=0.5 in /usr/local/lib/python3.7/dist-packages (from pytest->OSMPythonTools) (0.7.1)\n",
            "Requirement already satisfied: py>=1.5.0 in /usr/local/lib/python3.7/dist-packages (from pytest->OSMPythonTools) (1.10.0)\n",
            "Requirement already satisfied: attrs>=17.4.0 in /usr/local/lib/python3.7/dist-packages (from pytest->OSMPythonTools) (21.2.0)\n",
            "Requirement already satisfied: setuptools in /usr/local/lib/python3.7/dist-packages (from pytest->OSMPythonTools) (57.4.0)\n",
            "Requirement already satisfied: more-itertools>=4.0.0 in /usr/local/lib/python3.7/dist-packages (from pytest->OSMPythonTools) (8.8.0)\n",
            "Requirement already satisfied: atomicwrites>=1.0 in /usr/local/lib/python3.7/dist-packages (from pytest->OSMPythonTools) (1.4.0)\n",
            "Requirement already satisfied: termcolor>=1.1.0 in /usr/local/lib/python3.7/dist-packages (from pytest-sugar->OSMPythonTools) (1.1.0)\n",
            "Requirement already satisfied: packaging>=14.1 in /usr/local/lib/python3.7/dist-packages (from pytest-sugar->OSMPythonTools) (21.0)\n",
            "Building wheels for collected packages: OSMPythonTools, pytest-sugar\n",
            "  Building wheel for OSMPythonTools (setup.py) ... \u001b[?25l\u001b[?25hdone\n",
            "  Created wheel for OSMPythonTools: filename=OSMPythonTools-0.3.2-py3-none-any.whl size=13822 sha256=89aa22ec71fbcd44bd062eedd9d50f7d63f8f008fa7b816e094096684bc3115b\n",
            "  Stored in directory: /root/.cache/pip/wheels/a3/c7/c5/907dd97731c0b1775024cc29638028527425d3db24c7a8c727\n",
            "  Building wheel for pytest-sugar (setup.py) ... \u001b[?25l\u001b[?25hdone\n",
            "  Created wheel for pytest-sugar: filename=pytest_sugar-0.9.4-py2.py3-none-any.whl size=8986 sha256=cce22c085e09dc7c88d8b7a03fea38f4058ebb3cc63d515d1f00f36a8fc27c08\n",
            "  Stored in directory: /root/.cache/pip/wheels/9c/e8/b6/5009ec756a2f40eed690a8b0a95549cd788c1ec968832876df\n",
            "Successfully built OSMPythonTools pytest-sugar\n",
            "Installing collected packages: ujson, pytest-sugar, geojson, OSMPythonTools\n",
            "Successfully installed OSMPythonTools-0.3.2 geojson-2.5.0 pytest-sugar-0.9.4 ujson-4.1.0\n"
          ]
        }
      ]
    },
    {
      "cell_type": "code",
      "metadata": {
        "colab": {
          "base_uri": "https://localhost:8080/"
        },
        "id": "TMEbMahl6f4L",
        "outputId": "a4a7b3f8-2e66-48cb-e4ad-c7b1c2c46281"
      },
      "source": [
        "from OSMPythonTools.overpass import Overpass, overpassQueryBuilder\n",
        "from OSMPythonTools.nominatim import Nominatim\n",
        "\n",
        "area = 'Rome, Italy'\n",
        "#area = 'Agrigento, Italy'\n",
        "\n",
        "nominatim = Nominatim()\n",
        "#areaID = nominatim.query('Rome, Italy').areaId()\n",
        "areaID = nominatim.query(area).areaId()\n",
        "overpass = Overpass()\n",
        "#query = overpassQueryBuilder(area=areaID, elementType='node', selector=['\"name\"~\"CONAD\"', 'opening_hours'])\n",
        "#query = overpassQueryBuilder(area=areaID, elementType='node', selector='\"amenity\"=\"restaurant\"')\n",
        "#query = overpassQueryBuilder(area=areaID, elementType='node', selector='\"shop\"=\"mall\"')\n",
        "#query = overpassQueryBuilder(area=areaID, elementType='node', selector='\"name\"~\"IKEA\"')\n",
        "#nome='supermarket'\n",
        "nome='Fori Imperiali'\n",
        "#query = overpassQueryBuilder(area=areaID, elementType='node', selector='\"name\"~\"'+nome+'\"')\n",
        "#query = overpassQueryBuilder(area=areaID, elementType='node', selector='\"shop\"=\"'+nome+'\"')\n",
        "#query = overpassQueryBuilder(area=areaID, elementType='node', selector='\"name\"=\"'+nome+'\"')\n",
        "#query = overpassQueryBuilder(area=areaID, elementType='relation', selector='\"name\"=\"'+nome+'\"')\n",
        "query = overpassQueryBuilder(area=areaID, elementType='node', selector='\"name\"=\"Fori Imperiali\"')\n",
        "#query = overpassQueryBuilder(area=areaID, elementType='node', selector='\"amenity\"=\"university\"')\n",
        "#query = overpassQueryBuilder(area=areaID, elementType='node', selector='\"amenity\"=\"school\"')\n",
        "areaID"
      ],
      "execution_count": null,
      "outputs": [
        {
          "output_type": "execute_result",
          "data": {
            "text/plain": [
              "3600041485"
            ]
          },
          "metadata": {},
          "execution_count": 14
        }
      ]
    },
    {
      "cell_type": "code",
      "metadata": {
        "colab": {
          "base_uri": "https://localhost:8080/"
        },
        "id": "iPLGGlkI8Woq",
        "outputId": "c051c3f9-3702-4aa7-c49c-ed5a46d414f2"
      },
      "source": [
        "# Now do the actual query\n",
        "\n",
        "objects = overpass.query(query, timeout=50)\n",
        "objects.countElements()"
      ],
      "execution_count": null,
      "outputs": [
        {
          "output_type": "stream",
          "name": "stderr",
          "text": [
            "[overpass] downloading data: [timeout:50][out:json];area(3600041485)->.searchArea;(node[\"name\"=\"Fori Imperiali\"](area.searchArea);); out body;\n"
          ]
        },
        {
          "output_type": "execute_result",
          "data": {
            "text/plain": [
              "2"
            ]
          },
          "metadata": {},
          "execution_count": 15
        }
      ]
    },
    {
      "cell_type": "code",
      "metadata": {
        "colab": {
          "base_uri": "https://localhost:8080/"
        },
        "id": "e3fyCqUs89xC",
        "outputId": "2f1b438d-3f2e-4689-9f45-3336a1b99546"
      },
      "source": [
        "objects.elements()[0].geometry()"
      ],
      "execution_count": null,
      "outputs": [
        {
          "output_type": "execute_result",
          "data": {
            "text/plain": [
              "{\"coordinates\": [13.591194, 37.265759], \"type\": \"Point\"}"
            ]
          },
          "metadata": {},
          "execution_count": 119
        }
      ]
    }
  ]
}