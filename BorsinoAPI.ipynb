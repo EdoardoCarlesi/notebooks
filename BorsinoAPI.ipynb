{
  "nbformat": 4,
  "nbformat_minor": 0,
  "metadata": {
    "colab": {
      "name": "BorsinoAPI.ipynb",
      "provenance": [],
      "mount_file_id": "15rjiIazydBiJ87Q_1KnfpHf5y8kGg0G4",
      "authorship_tag": "ABX9TyMjxYmEWAqlrSin3kHSpiNh",
      "include_colab_link": true
    },
    "kernelspec": {
      "name": "python3",
      "display_name": "Python 3"
    },
    "language_info": {
      "name": "python"
    }
  },
  "cells": [
    {
      "cell_type": "markdown",
      "metadata": {
        "id": "view-in-github",
        "colab_type": "text"
      },
      "source": [
        "<a href=\"https://colab.research.google.com/github/EdoardoCarlesi/notebooks/blob/main/BorsinoAPI.ipynb\" target=\"_parent\"><img src=\"https://colab.research.google.com/assets/colab-badge.svg\" alt=\"Open In Colab\"/></a>"
      ]
    },
    {
      "cell_type": "code",
      "metadata": {
        "colab": {
          "base_uri": "https://localhost:8080/"
        },
        "id": "ebcM6KPhKvia",
        "outputId": "46ad399a-be9b-49c4-80dd-bb9e55bfedbb"
      },
      "source": [
        "!pip install pycurl"
      ],
      "execution_count": 1,
      "outputs": [
        {
          "output_type": "stream",
          "name": "stdout",
          "text": [
            "Requirement already satisfied: pycurl in /usr/local/lib/python3.7/dist-packages (7.44.1)\n"
          ]
        }
      ]
    },
    {
      "cell_type": "code",
      "metadata": {
        "id": "Hl73GNnmjnGF"
      },
      "source": [
        "import pandas as pd\n",
        "import requests\n",
        "import json\n",
        "from requests.auth import HTTPBasicAuth"
      ],
      "execution_count": 2,
      "outputs": []
    },
    {
      "cell_type": "code",
      "metadata": {
        "id": "-3XDzpDnjpOi"
      },
      "source": [
        "# API libere, accesso senza key\n",
        "api_url_immobili='https://api.borsinopro.it/rest/standard-v1/getImmobiliType/'\n",
        "api_url_contratti='https://api.borsinopro.it/rest/standard-v1/getContractType/'\n",
        "\n",
        "# API pro, accesso con key\n",
        "api_url_trends='https://api.borsinopro.it/rest/professional-v2/getTrends/'\n",
        "api_url_demografia='https://api.borsinopro.it/rest/professional-v2/getDemographic/'\n",
        "api_url_tempistiche='https://api.borsinopro.it/rest/professional-v2/getTempistiche/'\n",
        "\n",
        "# API key temporanea\n",
        "api_key='ZWRvYXJkby5jYXJsZXNpQHRvcC1uZXR3b3JrLml0OmRlbW8='\n",
        "\n"
      ],
      "execution_count": 3,
      "outputs": []
    },
    {
      "cell_type": "code",
      "metadata": {
        "colab": {
          "base_uri": "https://localhost:8080/"
        },
        "id": "G4Co29x8lQRf",
        "outputId": "d0d16dbe-3faf-4b84-8b92-d93de614804d"
      },
      "source": [
        "# Tipo di contratto\n",
        "\n",
        "contratto = requests.get(api_url_contratti)\n",
        "print(contratto.status_code)\n",
        "contratto.json()['response']['options']"
      ],
      "execution_count": 4,
      "outputs": [
        {
          "output_type": "stream",
          "name": "stdout",
          "text": [
            "200\n"
          ]
        },
        {
          "output_type": "execute_result",
          "data": {
            "text/plain": [
              "{'rent': {'id': 'rent', 'label': 'Affitto'},\n",
              " 'sale': {'id': 'sale', 'label': 'Vendita'}}"
            ]
          },
          "metadata": {},
          "execution_count": 4
        }
      ]
    },
    {
      "cell_type": "code",
      "metadata": {
        "colab": {
          "base_uri": "https://localhost:8080/"
        },
        "id": "v1LyL24ZnVLN",
        "outputId": "4ff8b514-a1b2-4070-9548-813f9f9b36ad"
      },
      "source": [
        "# Tipo di immobili\n",
        "\n",
        "immobili = requests.get(api_url_immobili)\n",
        "immobili.json()['response']['options']"
      ],
      "execution_count": 5,
      "outputs": [
        {
          "output_type": "execute_result",
          "data": {
            "text/plain": [
              "[{'id': '20', 'label': 'Abitazioni in stabili civili'},\n",
              " {'id': '19', 'label': 'Abitazioni in stabili signorili'},\n",
              " {'id': '21', 'label': 'Abitazioni in stabili economici'},\n",
              " {'id': '1', 'label': 'Ville e Villini'},\n",
              " {'id': '6', 'label': 'Uffici'},\n",
              " {'id': '5', 'label': 'Negozi'},\n",
              " {'id': '13', 'label': 'Box e Autorimesse'},\n",
              " {'id': '14', 'label': 'Posto auto coperti'},\n",
              " {'id': '15', 'label': 'Posto auto scoperti'},\n",
              " {'id': '9', 'label': 'Magazzini'},\n",
              " {'id': '10', 'label': 'Laboratori'},\n",
              " {'id': '7', 'label': 'Capannoni tipici'},\n",
              " {'id': '8', 'label': 'Capannoni industriali'}]"
            ]
          },
          "metadata": {},
          "execution_count": 5
        }
      ]
    },
    {
      "cell_type": "code",
      "metadata": {
        "colab": {
          "base_uri": "https://localhost:8080/"
        },
        "id": "N1hDZx90ocT9",
        "outputId": "50ffa0e3-7e3b-4ab1-9b4c-95a8a2908306"
      },
      "source": [
        "# Call the getTrends() API with API key\n",
        "\n",
        "tipo_immobile=immobili.json()['response']['options'][0]['id']\n",
        "print(tipo_immobile)\n",
        "tipo_contratto=contratto.json()['response']['options']['rent']['label']\n",
        "print(tipo_contratto)\n",
        "\n",
        "# Set the parameters for the request\n",
        "indirizzo=\"Via del Corso Roma\"\n",
        "header={'Authorization':'Basic '+api_key, 'Content-Type': 'application/json'}\n",
        "method='post'\n",
        "#data_post=json.dumps({\"address\":indirizzo, \"type\":tipo_immobile, \"for\":tipo_contratto})\n",
        "#data_post=json.dumps({\"address\": indirizzo, \"type\": tipo_immobile, \"for\": tipo_contratto})\n",
        "data_post={\"address\": indirizzo, \"type\": tipo_immobile, \"for\": tipo_contratto}\n",
        "\n",
        "# requests cannot handle properly the calls to these APIs\n",
        "#print(data_post['address'])\n",
        "#print(data_post)\n",
        "#rsp=requests.request(method, api_url_trends, params=data_post, headers=header)\n",
        "#rsp=requests.post(api_url_trends, data=data_post, headers=header)\n",
        "#rsp=requests.request(method, api_url_trends, json=data_post, headers=header)\n",
        "#rsp=requests.request(method, api_url_trends, data=data_post, headers=header)\n",
        "#rsp.json()"
      ],
      "execution_count": 6,
      "outputs": [
        {
          "output_type": "stream",
          "name": "stdout",
          "text": [
            "20\n",
            "Affitto\n"
          ]
        }
      ]
    },
    {
      "cell_type": "markdown",
      "metadata": {
        "id": "0xnK27ItK221"
      },
      "source": [
        "**Using PyCurl for the pro-API**\n",
        "\n",
        "La libreria requests non permette di formattare i dati in ingresso per la richiesta nel formato accettato da Borsino (che non e' JSON), per cui per utilizzare le API pro con una POST request e' necessario "
      ]
    },
    {
      "cell_type": "code",
      "metadata": {
        "colab": {
          "base_uri": "https://localhost:8080/"
        },
        "id": "GozvOymh__ME",
        "outputId": "7c372dc6-ae41-4176-b43a-78d710ae11d5"
      },
      "source": [
        "import pycurl\n",
        "from urllib.parse import urlencode\n",
        "from io import BytesIO\n",
        "\n",
        "data_curl = urlencode(data_post)\n",
        "headers=['Authorization: Basic '+api_key]\n",
        "\n",
        "def getTrends(api_url=None, api_key=None, headers=None, data=None):\n",
        "  '''\n",
        "  '''  \n",
        "\n",
        "  crl = pycurl.Curl()\n",
        "  response = BytesIO()\n",
        "  crl.setopt(crl.URL, api_url_trends)\n",
        "  crl.setopt(crl.HTTPAUTH, crl.HTTPAUTH_BASIC)\n",
        "  crl.setopt(crl.USERPWD, api_key)\n",
        "  crl.setopt(crl.HTTPHEADER, headers)\n",
        "  crl.setopt(crl.CUSTOMREQUEST, 'POST')\n",
        "  crl.setopt(crl.POSTFIELDS, data)\n",
        "  crl.setopt(crl.WRITEFUNCTION, response.write)\n",
        "  crl.perform()\n",
        "  rsp_dict = json.loads(response.getvalue().decode(\"utf-8\"))\n",
        "  \n",
        "  return rsp_dict"
      ],
      "execution_count": 7,
      "outputs": [
        {
          "output_type": "stream",
          "name": "stdout",
          "text": [
            "address=Via+del+Corso+Roma&type=20&for=Affitto\n",
            "{\"address\": \"Via del Corso Roma\", \"type\": \"20\", \"for\": \"Affitto\"}\n",
            "b'{\"method\":\"getTrends\",\"response\":{\"id\":\"17671\",\"nome\":\"Centro Storico Tridente- Campo Marzio, Colonna, Pigna, Trevi\",\"id_citta\":\"2167\",\"citta\":\"Roma\",\"cod_cat\":\"H501\",\"provincia\":\"RM\",\"id_provincia\":\"86\",\"id_regione\":\"7\",\"regione\":\"Lazio\",\"fascia\":\"centrale\",\"address\":\"Via del Corso Roma\",\"formatted\":\"Via del Corso, Roma RM, Italia\",\"loc2011\":\"580911\",\"coordinate\":{\"lat\":41.90248,\"lng\":12.47982},\"immobile\":{\"type\":\"Abitazioni in stabili civili\",\"label\":\"Valori di Vendita Abitazioni in stabili civili al Mq\",\"id\":20},\"quotazione\":{\"sale_min\":\"5426\",\"sale_diff\":\"2841\",\"sale_max\":\"8267\",\"rent_min\":\"17.03\",\"rent_diff\":\"8.91\",\"rent_max\":\"25.94\",\"type\":\"sale\",\"med\":0,\"min\":0,\"max\":0},\"ripartizione_annunci\":{\"vendita\":{\"1\":{\"tipologia\":\"Appartamenti\",\"percentuale\":63.09},\"2\":{\"tipologia\":\"Locali ed Uffici\",\"percentuale\":29.54},\"12\":{\"tipologia\":\"Ville e Villini\",\"percentuale\":3.36},\"14\":{\"tipologia\":\"Box e Garage\",\"percentuale\":4.01}},\"affitto\":{\"1\":{\"tipologia\":\"Appartamenti\",\"percentuale\":71.39999999999999},\"2\":{\"tipologia\":\"Locali ed Uffici\",\"percentuale\":28.410000000000004},\"12\":{\"tipologia\":\"Ville e Villini\",\"percentuale\":0.03},\"14\":{\"tipologia\":\"Box e Garage\",\"percentuale\":0.16}}},\"dimensioni\":[{\"label\":\"0-50 Mq\",\"percentuale\":14.52},{\"label\":\"50-85 Mq\",\"percentuale\":17.44},{\"label\":\"85-115 Mq\",\"percentuale\":17.27},{\"label\":\"115-145 Mq\",\"percentuale\":11.77},{\"label\":\"Oltre 145 Mq\",\"percentuale\":39}],\"capoluogi_vendite_zona\":{\"2020\":{\"num_abitazioni_zona\":\"8745\",\"numero_abitazioni_vendute\":\"82\",\"perc_variazione_annuale\":\"-30.2\",\"dinamicita_mercato_residenziale\":\"Bassa\"},\"2019\":{\"num_abitazioni_zona\":\"8745\",\"numero_abitazioni_vendute\":\"118\",\"perc_variazione_annuale\":\"-12.112\",\"dinamicita_mercato_residenziale\":\"medio bassa\"},\"2018\":{\"num_abitazioni_zona\":\"8818\",\"numero_abitazioni_vendute\":\"134\",\"perc_variazione_annuale\":\"13.6\",\"dinamicita_mercato_residenziale\":\"medio bassa\"},\"2017\":{\"num_abitazioni_zona\":\"8676\",\"numero_abitazioni_vendute\":\"118\",\"perc_variazione_annuale\":\"21.6\",\"dinamicita_mercato_residenziale\":\"medio bassa\"}}},\"account\":{\"id\":\"3649\",\"name\":\"top-network.it\",\"license_id\":\"20\",\"type\":\"api\",\"expiration\":\"2021-10-15 00:00:00\",\"call_performed\":2,\"call_limit\":\"500\",\"call_remain\":498},\"univoco\":\"20210916144124_61433b74f393b_20_3649\"}'\n"
          ]
        }
      ]
    },
    {
      "cell_type": "code",
      "metadata": {
        "colab": {
          "base_uri": "https://localhost:8080/"
        },
        "id": "BkQH3EBiIDs1",
        "outputId": "a5f2c1cb-f7f0-48da-cc46-992604ca0a69"
      },
      "source": [
        "# Questa sintassi funziona solo con python 3.8+\n",
        "#print(sale_min := rsp_dict['response']['quotazione']['sale_min'])\n",
        "#print(rent_min := rsp_dict['response']['quotazione']['rent_min'])\n",
        "\n",
        "rsp_dict = getTrends(api_url=api_url_trends, api_key=api_key, headers=headers, data=data_curl)\n",
        "sale_min = rsp_dict['response']['quotazione']['sale_min']\n",
        "rent_min = rsp_dict['response']['quotazione']['rent_min']\n",
        "codice = rsp_dict['univoco']\n",
        "\n",
        "print(codice)\n",
        "print(f'Prezzo Vendita Minimo:{sale_min}, Prezzo Affitto Minimo: {rent_min}')"
      ],
      "execution_count": 9,
      "outputs": [
        {
          "output_type": "stream",
          "name": "stdout",
          "text": [
            "20210916144124_61433b74f393b_20_3649\n",
            "Prezzo Vendita Minimo:5426, Prezzo Affitto Minimo: 17.03\n"
          ]
        }
      ]
    },
    {
      "cell_type": "code",
      "metadata": {
        "id": "dRcl8X0RogyL"
      },
      "source": [
        "# Get Demographic\n",
        "data_post={'univoco':codice}\n",
        "data_curl = urlencode(data_post)\n",
        "headers=['Authorization: Basic '+api_key]\n",
        "\n",
        "def getDemographic(api_url=None, api_key=None, headers=None, data=None):\n",
        "  '''\n",
        "  '''\n",
        "\n",
        "  crl = pycurl.Curl()\n",
        "  response_demo = BytesIO()\n",
        "  crl.setopt(crl.URL, api_url)\n",
        "  crl.setopt(crl.HTTPAUTH, crl.HTTPAUTH_BASIC)\n",
        "  crl.setopt(crl.USERPWD, api_key)\n",
        "  crl.setopt(crl.HTTPHEADER, headers)\n",
        "  crl.setopt(crl.CUSTOMREQUEST, 'POST')\n",
        "  crl.setopt(crl.POSTFIELDS, data)\n",
        "  crl.setopt(crl.WRITEFUNCTION, response_demo.write)\n",
        "  crl.perform()\n",
        "  rsp_demo_dict = json.loads(response_demo.getvalue().decode(\"utf-8\"))\n",
        " \n",
        "  return rsp_demo_dict\n",
        "  "
      ],
      "execution_count": 11,
      "outputs": []
    },
    {
      "cell_type": "code",
      "metadata": {
        "colab": {
          "base_uri": "https://localhost:8080/"
        },
        "id": "1hqvaKfPpUoX",
        "outputId": "2c4de8f5-fef7-4596-eca7-6caace281210"
      },
      "source": [
        ""
      ],
      "execution_count": 12,
      "outputs": [
        {
          "output_type": "execute_result",
          "data": {
            "text/plain": [
              "{'method': 'getDemographic',\n",
              " 'response': {'capoluogo': [{'dinamicita_mercato_residenziale': 'medio bassa',\n",
              "    'media_num_abitazioni_zona': '8760.4000',\n",
              "    'media_numero_abitazioni_vendute': '109.8000'}],\n",
              "  'geo': {'altitudine': '0',\n",
              "   'cod_cat': 'H501',\n",
              "   'id': '117',\n",
              "   'id_provincia': '86',\n",
              "   'loc2011': '580911',\n",
              "   'nome_localita': 'I Municipio',\n",
              "   'tipo_localita': 'Municipio'},\n",
              "  'mappa': 'https://api.borsinopro.it/mappa/20210916144124_61433b74f393b_20_3649/',\n",
              "  'pop': {'dimensione_nuclei_familiari': 'piccoli',\n",
              "   'livello_anzianita': 'medio',\n",
              "   'livello_disoccupazione': 'medio bassa',\n",
              "   'livello_istruzione': 'superiore alla media',\n",
              "   'media_componenti_famiglia': '1.68'},\n",
              "  'rischio_sismico': 'inferiore alla media',\n",
              "  'stock': {'abitanti_per_edificio': '19.00',\n",
              "   'abitazioni_per_edificio': '10.44',\n",
              "   'mq_abitazione_media': '96.80',\n",
              "   'prc_abitazioni_di_proprieta': '60.000',\n",
              "   'prc_abitazioni_vuote_o_2_case': '21.000',\n",
              "   'prc_edifici_produttivi_commerciali': '36.000',\n",
              "   'prc_edifici_residenziali': '64.000'}},\n",
              " 'univoco': '20210916144124_61433b74f393b_20_3649'}"
            ]
          },
          "metadata": {},
          "execution_count": 12
        }
      ]
    },
    {
      "cell_type": "code",
      "metadata": {
        "id": "jRPC5s8jpiGe"
      },
      "source": [
        "# Get tempistiche\n",
        "def getTime():\n",
        "  '''\n",
        "  '''\n",
        "\n",
        "  crl = pycurl.Curl()\n",
        "  response_temp = BytesIO()\n",
        "  crl.setopt(crl.URL, api_url_demografia)\n",
        "  crl.setopt(crl.HTTPAUTH, crl.HTTPAUTH_BASIC)\n",
        "  crl.setopt(crl.USERPWD, api_key)\n",
        "  crl.setopt(crl.HTTPHEADER, headers)\n",
        "  crl.setopt(crl.CUSTOMREQUEST, 'POST')\n",
        "  crl.setopt(crl.POSTFIELDS, data_curl)\n",
        "  crl.setopt(crl.WRITEFUNCTION, response_temp.write)\n",
        "  crl.perform()\n",
        "  rsp_temp_dict = json.loads(response_temp.getvalue().decode(\"utf-8\"))\n",
        "\n",
        "  return rsp_temp_dict"
      ],
      "execution_count": 13,
      "outputs": []
    },
    {
      "cell_type": "markdown",
      "metadata": {
        "id": "DPLdKMwIq8m9"
      },
      "source": [
        "**Poligoni shapefiles per le zone dell'OMI**\n",
        "\n",
        "File completo\n",
        "\n",
        "http://dev.ondata.it/projs/zoneomi/zone_omi_poligoni.zip\n",
        "\n",
        "\n",
        "Altri links utili:\n",
        "http://blog.ondata.it/i-dati-sulle-quotazioni-immobiliari-dellagenzia-entrate-i-poligoni-delle-zone-omi/\n",
        "\n",
        "https://www.istat.it/it/archivio/222527\n",
        "\n",
        "https://www.provinceditalia.it/mappaprovince/\n",
        "\n",
        "https://www1.agenziaentrate.gov.it/servizi/geopoi_omi/index.php"
      ]
    },
    {
      "cell_type": "code",
      "metadata": {
        "id": "yeGcgmZXrRdV"
      },
      "source": [
        "!pip install geopandas geopy utm\n"
      ],
      "execution_count": null,
      "outputs": []
    },
    {
      "cell_type": "code",
      "metadata": {
        "id": "VmgUxRwe1K48"
      },
      "source": [
        "%cd MyDrive\n",
        "#!wget https://github.com/ondata/quotazioni-immobiliari-agenzia-entrate/blob/master/rawData/2016-2.zip\n",
        "!wget https://github.com/ondata/quotazioni-immobiliari-agenzia-entrate/archive/refs/heads/master.zip"
      ],
      "execution_count": null,
      "outputs": []
    },
    {
      "cell_type": "code",
      "metadata": {
        "colab": {
          "base_uri": "https://localhost:8080/"
        },
        "id": "RhsjM3GY2Ury",
        "outputId": "1603a761-ff13-4133-ab7e-70bf359e99a5"
      },
      "source": [
        "%cd /content/drive/MyDrive/\n",
        "#!unzip master.zip\n",
        "#!unzip /content/drive/MyDrive/quotazioni-immobiliari-agenzia-entrate-master/rawData/2018-2.zip"
      ],
      "execution_count": 56,
      "outputs": [
        {
          "output_type": "stream",
          "name": "stdout",
          "text": [
            "/content/drive/MyDrive\n"
          ]
        }
      ]
    },
    {
      "cell_type": "code",
      "metadata": {
        "colab": {
          "base_uri": "https://localhost:8080/",
          "height": 505
        },
        "id": "pJRkqZ1bsCAh",
        "outputId": "ba7bec1b-d267-4854-8ae1-fb89a829aa6a"
      },
      "source": [
        "import geopandas as gpd\n",
        "\n",
        "# Zone Omi\n",
        "omi_path='/content/drive/MyDrive/zone_omi/'\n",
        "omi_shp=omi_path+'zone_omi_all.shp'\n",
        "\n",
        "gdf = gpd.read_file(omi_shp)\n",
        "#print(gdf.head())\n",
        "#gdf.head(20)\n",
        "gdf_rm = gdf[gdf['Comune'] == 'Roma']\n",
        "gdf_sc = gdf[gdf['QI_29457_1'] == 'SICILIA']\n",
        "print(len(gdf_rm), len(gdf_sc))\n",
        "gdf_rm.head()\n",
        "#print(len(gdf))"
      ],
      "execution_count": 77,
      "outputs": [
        {
          "output_type": "stream",
          "name": "stdout",
          "text": [
            "234 1644\n"
          ]
        },
        {
          "output_type": "execute_result",
          "data": {
            "text/html": [
              "<div>\n",
              "<style scoped>\n",
              "    .dataframe tbody tr th:only-of-type {\n",
              "        vertical-align: middle;\n",
              "    }\n",
              "\n",
              "    .dataframe tbody tr th {\n",
              "        vertical-align: top;\n",
              "    }\n",
              "\n",
              "    .dataframe thead th {\n",
              "        text-align: right;\n",
              "    }\n",
              "</style>\n",
              "<table border=\"1\" class=\"dataframe\">\n",
              "  <thead>\n",
              "    <tr style=\"text-align: right;\">\n",
              "      <th></th>\n",
              "      <th>Name</th>\n",
              "      <th>CODCOM</th>\n",
              "      <th>CODZONA</th>\n",
              "      <th>QI_294577_</th>\n",
              "      <th>QI_29457_1</th>\n",
              "      <th>QI_29457_2</th>\n",
              "      <th>QI_29457_3</th>\n",
              "      <th>Com1991_WG</th>\n",
              "      <th>Com1991__1</th>\n",
              "      <th>Com1991__2</th>\n",
              "      <th>Com1991__3</th>\n",
              "      <th>Com1991__4</th>\n",
              "      <th>Comune</th>\n",
              "      <th>Com1991__6</th>\n",
              "      <th>Shape_area</th>\n",
              "      <th>Shape_leng</th>\n",
              "      <th>geometry</th>\n",
              "    </tr>\n",
              "  </thead>\n",
              "  <tbody>\n",
              "    <tr>\n",
              "      <th>7196</th>\n",
              "      <td>ROMA - Zona OMI D8</td>\n",
              "      <td>H501</td>\n",
              "      <td>D8</td>\n",
              "      <td>CENTRO</td>\n",
              "      <td>LAZIO</td>\n",
              "      <td>RM</td>\n",
              "      <td>12058091.0</td>\n",
              "      <td>3.0</td>\n",
              "      <td>12.0</td>\n",
              "      <td>58.0</td>\n",
              "      <td>58091.0</td>\n",
              "      <td>058091</td>\n",
              "      <td>Roma</td>\n",
              "      <td>None</td>\n",
              "      <td>3.257845e+06</td>\n",
              "      <td>13551.618000</td>\n",
              "      <td>POLYGON Z ((783972.048 4636648.953 0.000, 7839...</td>\n",
              "    </tr>\n",
              "    <tr>\n",
              "      <th>7197</th>\n",
              "      <td>ROMA - Zona OMI D53</td>\n",
              "      <td>H501</td>\n",
              "      <td>D53</td>\n",
              "      <td>CENTRO</td>\n",
              "      <td>LAZIO</td>\n",
              "      <td>RM</td>\n",
              "      <td>12058091.0</td>\n",
              "      <td>3.0</td>\n",
              "      <td>12.0</td>\n",
              "      <td>58.0</td>\n",
              "      <td>58091.0</td>\n",
              "      <td>058091</td>\n",
              "      <td>Roma</td>\n",
              "      <td>None</td>\n",
              "      <td>1.402869e+06</td>\n",
              "      <td>7820.129817</td>\n",
              "      <td>POLYGON Z ((793818.479 4641566.688 0.000, 7938...</td>\n",
              "    </tr>\n",
              "    <tr>\n",
              "      <th>7198</th>\n",
              "      <td>ROMA - Zona OMI D78</td>\n",
              "      <td>H501</td>\n",
              "      <td>D78</td>\n",
              "      <td>CENTRO</td>\n",
              "      <td>LAZIO</td>\n",
              "      <td>RM</td>\n",
              "      <td>12058091.0</td>\n",
              "      <td>3.0</td>\n",
              "      <td>12.0</td>\n",
              "      <td>58.0</td>\n",
              "      <td>58091.0</td>\n",
              "      <td>058091</td>\n",
              "      <td>Roma</td>\n",
              "      <td>None</td>\n",
              "      <td>9.032285e+05</td>\n",
              "      <td>5065.345244</td>\n",
              "      <td>POLYGON Z ((787478.768 4634958.856 0.000, 7875...</td>\n",
              "    </tr>\n",
              "    <tr>\n",
              "      <th>7199</th>\n",
              "      <td>ROMA - Zona OMI D24</td>\n",
              "      <td>H501</td>\n",
              "      <td>D24</td>\n",
              "      <td>CENTRO</td>\n",
              "      <td>LAZIO</td>\n",
              "      <td>RM</td>\n",
              "      <td>12058091.0</td>\n",
              "      <td>3.0</td>\n",
              "      <td>12.0</td>\n",
              "      <td>58.0</td>\n",
              "      <td>58091.0</td>\n",
              "      <td>058091</td>\n",
              "      <td>Roma</td>\n",
              "      <td>None</td>\n",
              "      <td>3.811554e+06</td>\n",
              "      <td>11452.173834</td>\n",
              "      <td>POLYGON Z ((781938.020 4645444.715 0.000, 7819...</td>\n",
              "    </tr>\n",
              "    <tr>\n",
              "      <th>7200</th>\n",
              "      <td>ROMA - Zona OMI D17</td>\n",
              "      <td>H501</td>\n",
              "      <td>D17</td>\n",
              "      <td>CENTRO</td>\n",
              "      <td>LAZIO</td>\n",
              "      <td>RM</td>\n",
              "      <td>12058091.0</td>\n",
              "      <td>3.0</td>\n",
              "      <td>12.0</td>\n",
              "      <td>58.0</td>\n",
              "      <td>58091.0</td>\n",
              "      <td>058091</td>\n",
              "      <td>Roma</td>\n",
              "      <td>None</td>\n",
              "      <td>1.366475e+06</td>\n",
              "      <td>5548.683341</td>\n",
              "      <td>MULTIPOLYGON Z (((794293.295 4644839.086 0.000...</td>\n",
              "    </tr>\n",
              "  </tbody>\n",
              "</table>\n",
              "</div>"
            ],
            "text/plain": [
              "                     Name  ...                                           geometry\n",
              "7196   ROMA - Zona OMI D8  ...  POLYGON Z ((783972.048 4636648.953 0.000, 7839...\n",
              "7197  ROMA - Zona OMI D53  ...  POLYGON Z ((793818.479 4641566.688 0.000, 7938...\n",
              "7198  ROMA - Zona OMI D78  ...  POLYGON Z ((787478.768 4634958.856 0.000, 7875...\n",
              "7199  ROMA - Zona OMI D24  ...  POLYGON Z ((781938.020 4645444.715 0.000, 7819...\n",
              "7200  ROMA - Zona OMI D17  ...  MULTIPOLYGON Z (((794293.295 4644839.086 0.000...\n",
              "\n",
              "[5 rows x 17 columns]"
            ]
          },
          "metadata": {},
          "execution_count": 77
        }
      ]
    },
    {
      "cell_type": "code",
      "metadata": {
        "colab": {
          "base_uri": "https://localhost:8080/",
          "height": 594
        },
        "id": "lP3pGZ_Nvena",
        "outputId": "66bc3200-ca8e-4b84-a2a3-5ccbfff94251"
      },
      "source": [
        "# Let's find the center of each polygon\n",
        "\n",
        "geometries = gdf_rm['geometry']\n",
        "centers = []\n",
        "\n",
        "for geo in geometries:\n",
        "  centers.append(geo.centroid)\n",
        "\n",
        "gdf_rm['centers'] = centers\n",
        "gdf_rm.head()"
      ],
      "execution_count": 34,
      "outputs": [
        {
          "output_type": "stream",
          "name": "stderr",
          "text": [
            "/usr/local/lib/python3.7/dist-packages/geopandas/geodataframe.py:1322: SettingWithCopyWarning: \n",
            "A value is trying to be set on a copy of a slice from a DataFrame.\n",
            "Try using .loc[row_indexer,col_indexer] = value instead\n",
            "\n",
            "See the caveats in the documentation: https://pandas.pydata.org/pandas-docs/stable/user_guide/indexing.html#returning-a-view-versus-a-copy\n",
            "  super(GeoDataFrame, self).__setitem__(key, value)\n"
          ]
        },
        {
          "output_type": "execute_result",
          "data": {
            "text/html": [
              "<div>\n",
              "<style scoped>\n",
              "    .dataframe tbody tr th:only-of-type {\n",
              "        vertical-align: middle;\n",
              "    }\n",
              "\n",
              "    .dataframe tbody tr th {\n",
              "        vertical-align: top;\n",
              "    }\n",
              "\n",
              "    .dataframe thead th {\n",
              "        text-align: right;\n",
              "    }\n",
              "</style>\n",
              "<table border=\"1\" class=\"dataframe\">\n",
              "  <thead>\n",
              "    <tr style=\"text-align: right;\">\n",
              "      <th></th>\n",
              "      <th>Name</th>\n",
              "      <th>CODCOM</th>\n",
              "      <th>CODZONA</th>\n",
              "      <th>QI_294577_</th>\n",
              "      <th>QI_29457_1</th>\n",
              "      <th>QI_29457_2</th>\n",
              "      <th>QI_29457_3</th>\n",
              "      <th>Com1991_WG</th>\n",
              "      <th>Com1991__1</th>\n",
              "      <th>Com1991__2</th>\n",
              "      <th>Com1991__3</th>\n",
              "      <th>Com1991__4</th>\n",
              "      <th>Comune</th>\n",
              "      <th>Com1991__6</th>\n",
              "      <th>Shape_area</th>\n",
              "      <th>Shape_leng</th>\n",
              "      <th>geometry</th>\n",
              "      <th>centers</th>\n",
              "    </tr>\n",
              "  </thead>\n",
              "  <tbody>\n",
              "    <tr>\n",
              "      <th>7196</th>\n",
              "      <td>ROMA - Zona OMI D8</td>\n",
              "      <td>H501</td>\n",
              "      <td>D8</td>\n",
              "      <td>CENTRO</td>\n",
              "      <td>LAZIO</td>\n",
              "      <td>RM</td>\n",
              "      <td>12058091.0</td>\n",
              "      <td>3.0</td>\n",
              "      <td>12.0</td>\n",
              "      <td>58.0</td>\n",
              "      <td>58091.0</td>\n",
              "      <td>058091</td>\n",
              "      <td>Roma</td>\n",
              "      <td>None</td>\n",
              "      <td>3.257845e+06</td>\n",
              "      <td>13551.618000</td>\n",
              "      <td>POLYGON Z ((783972.048 4636648.953 0.000, 7839...</td>\n",
              "      <td>POINT (786513.5019016892 4637762.815119482)</td>\n",
              "    </tr>\n",
              "    <tr>\n",
              "      <th>7197</th>\n",
              "      <td>ROMA - Zona OMI D53</td>\n",
              "      <td>H501</td>\n",
              "      <td>D53</td>\n",
              "      <td>CENTRO</td>\n",
              "      <td>LAZIO</td>\n",
              "      <td>RM</td>\n",
              "      <td>12058091.0</td>\n",
              "      <td>3.0</td>\n",
              "      <td>12.0</td>\n",
              "      <td>58.0</td>\n",
              "      <td>58091.0</td>\n",
              "      <td>058091</td>\n",
              "      <td>Roma</td>\n",
              "      <td>None</td>\n",
              "      <td>1.402869e+06</td>\n",
              "      <td>7820.129817</td>\n",
              "      <td>POLYGON Z ((793818.479 4641566.688 0.000, 7938...</td>\n",
              "      <td>POINT (794559.3531067014 4640666.958689639)</td>\n",
              "    </tr>\n",
              "    <tr>\n",
              "      <th>7198</th>\n",
              "      <td>ROMA - Zona OMI D78</td>\n",
              "      <td>H501</td>\n",
              "      <td>D78</td>\n",
              "      <td>CENTRO</td>\n",
              "      <td>LAZIO</td>\n",
              "      <td>RM</td>\n",
              "      <td>12058091.0</td>\n",
              "      <td>3.0</td>\n",
              "      <td>12.0</td>\n",
              "      <td>58.0</td>\n",
              "      <td>58091.0</td>\n",
              "      <td>058091</td>\n",
              "      <td>Roma</td>\n",
              "      <td>None</td>\n",
              "      <td>9.032285e+05</td>\n",
              "      <td>5065.345244</td>\n",
              "      <td>POLYGON Z ((787478.768 4634958.856 0.000, 7875...</td>\n",
              "      <td>POINT (788330.8834137139 4635315.78231564)</td>\n",
              "    </tr>\n",
              "    <tr>\n",
              "      <th>7199</th>\n",
              "      <td>ROMA - Zona OMI D24</td>\n",
              "      <td>H501</td>\n",
              "      <td>D24</td>\n",
              "      <td>CENTRO</td>\n",
              "      <td>LAZIO</td>\n",
              "      <td>RM</td>\n",
              "      <td>12058091.0</td>\n",
              "      <td>3.0</td>\n",
              "      <td>12.0</td>\n",
              "      <td>58.0</td>\n",
              "      <td>58091.0</td>\n",
              "      <td>058091</td>\n",
              "      <td>Roma</td>\n",
              "      <td>None</td>\n",
              "      <td>3.811554e+06</td>\n",
              "      <td>11452.173834</td>\n",
              "      <td>POLYGON Z ((781938.020 4645444.715 0.000, 7819...</td>\n",
              "      <td>POINT (783287.8355003501 4646733.881924237)</td>\n",
              "    </tr>\n",
              "    <tr>\n",
              "      <th>7200</th>\n",
              "      <td>ROMA - Zona OMI D17</td>\n",
              "      <td>H501</td>\n",
              "      <td>D17</td>\n",
              "      <td>CENTRO</td>\n",
              "      <td>LAZIO</td>\n",
              "      <td>RM</td>\n",
              "      <td>12058091.0</td>\n",
              "      <td>3.0</td>\n",
              "      <td>12.0</td>\n",
              "      <td>58.0</td>\n",
              "      <td>58091.0</td>\n",
              "      <td>058091</td>\n",
              "      <td>Roma</td>\n",
              "      <td>None</td>\n",
              "      <td>1.366475e+06</td>\n",
              "      <td>5548.683341</td>\n",
              "      <td>MULTIPOLYGON Z (((794293.295 4644839.086 0.000...</td>\n",
              "      <td>POINT (795180.828549902 4644708.600154188)</td>\n",
              "    </tr>\n",
              "  </tbody>\n",
              "</table>\n",
              "</div>"
            ],
            "text/plain": [
              "                     Name  ...                                      centers\n",
              "7196   ROMA - Zona OMI D8  ...  POINT (786513.5019016892 4637762.815119482)\n",
              "7197  ROMA - Zona OMI D53  ...  POINT (794559.3531067014 4640666.958689639)\n",
              "7198  ROMA - Zona OMI D78  ...   POINT (788330.8834137139 4635315.78231564)\n",
              "7199  ROMA - Zona OMI D24  ...  POINT (783287.8355003501 4646733.881924237)\n",
              "7200  ROMA - Zona OMI D17  ...   POINT (795180.828549902 4644708.600154188)\n",
              "\n",
              "[5 rows x 18 columns]"
            ]
          },
          "metadata": {},
          "execution_count": 34
        }
      ]
    },
    {
      "cell_type": "code",
      "metadata": {
        "id": "OfBBydGp3yye"
      },
      "source": [
        "omi_values='/content/drive/MyDrive/QI_294577_1_20182_VALORI.csv'\n",
        "omi_zones='/content/drive/MyDrive/QI_294577_1_20182_ZONE.csv'\n",
        "\n",
        "df_val = gpd.read_file(omi_zones)\n",
        "df_val.head()"
      ],
      "execution_count": null,
      "outputs": []
    },
    {
      "cell_type": "code",
      "metadata": {
        "colab": {
          "base_uri": "https://localhost:8080/"
        },
        "id": "Q7MhIFQryyVR",
        "outputId": "d8c09655-37df-495d-a3c3-9d2794eb98da"
      },
      "source": [
        "# Do the reverse geocoding operation - for each center of the list above get \n",
        "from geopy.geocoders import Nominatim\n",
        "from geopy.extra.rate_limiter import RateLimiter\n",
        "\n",
        "# EXTREMELY IMPORTANT!!!!!\n",
        "import utm \n",
        "\n",
        "locator = Nominatim(user_agent='MyGeocoder')\n",
        "\n",
        "'''\n",
        "THIS DOES NOT WORK WITH THE KIND OF UTM COORDINATES AVAILABLE\n",
        "from pyproj import Proj, transform\n",
        "#in_coords = Proj(init='epsg:3031')\n",
        "in_coords = Proj(init='epsg:163716')\n",
        "out_coords = Proj(init='epsg:4326')\n",
        "coords = transform(in_coords, out_coords, centers[0].x, centers[0].y)\n",
        "'''\n",
        "\n",
        "# TODO! This is ok for Italy but needs to be checked for ALL the provinces...\n",
        "zone_number = 32\n",
        "\n",
        "for center in centers[0:10]:\n",
        "  coords = utm.to_latlon(center.x, center.y, zone_number, 'U')\n",
        "  location = locator.reverse(coords)\n",
        "  print(location.raw['address'])"
      ],
      "execution_count": 102,
      "outputs": [
        {
          "output_type": "stream",
          "name": "stdout",
          "text": [
            "{'road': 'Largo Giuseppe Petrelli', 'suburb': 'Suburbio VII Portuense', 'city': 'Roma', 'county': 'Roma Capitale', 'state': 'Lazio', 'postcode': '00144', 'country': 'Italia', 'country_code': 'it'}\n",
            "{'road': 'Via dei Furi', 'neighbourhood': 'Quadraretto', 'suburb': 'Quartiere VIII Tuscolano', 'city': 'Roma', 'county': 'Roma Capitale', 'state': 'Lazio', 'postcode': '00174', 'country': 'Italia', 'country_code': 'it'}\n",
            "{'shop': 'Carrefour Express', 'house_number': '284', 'road': 'Viale Cesare Pavese', 'suburb': 'Zona XXIV Fonte Ostiense', 'city': 'Roma', 'county': 'Roma Capitale', 'state': 'Lazio', 'postcode': '00144', 'country': 'Italia', 'country_code': 'it'}\n",
            "{'amenity': 'Galaxi', 'road': 'Via Pietro Maffi', 'suburb': 'Municipio Roma XIV', 'city': 'Roma', 'county': 'Roma Capitale', 'state': 'Lazio', 'postcode': '00167', 'country': 'Italia', 'country_code': 'it'}\n",
            "{'road': 'Viale della Serenissima', 'suburb': 'Municipio Roma V', 'city': 'Roma', 'county': 'Roma Capitale', 'state': 'Lazio', 'postcode': '00177', 'country': 'Italia', 'country_code': 'it'}\n",
            "{'military': 'Aeroporto di Roma-Urbe', 'road': 'Via Montevarchi', 'suburb': 'Municipio Roma III', 'city': 'Roma', 'county': 'Roma Capitale', 'state': 'Lazio', 'postcode': '00139', 'country': 'Italia', 'country_code': 'it'}\n",
            "{'amenity': 'Casa Circondariale di Rebibbia', 'road': 'Via Raffaele Majetti', 'suburb': 'Municipio Roma IV', 'city': 'Roma', 'county': 'Roma Capitale', 'state': 'Lazio', 'postcode': '00156', 'country': 'Italia', 'country_code': 'it'}\n",
            "{'suburb': 'Zona XXIX Castel Porziano', 'city': 'Roma', 'county': 'Roma Capitale', 'state': 'Lazio', 'country': 'Italia', 'country_code': 'it'}\n",
            "{'road': \"Via dell'Inviolatella Borghese\", 'suburb': 'Suburbio I Tor di Quinto', 'city': 'Roma', 'county': 'Roma Capitale', 'state': 'Lazio', 'postcode': '00191', 'country': 'Italia', 'country_code': 'it'}\n",
            "{'shop': 'Superconvenienza Casa', 'road': 'Viale Palmiro Togliatti', 'neighbourhood': 'Colli Aniene', 'suburb': 'Municipio Roma IV', 'city': 'Roma', 'county': 'Roma Capitale', 'state': 'Lazio', 'postcode': '00155', 'country': 'Italia', 'country_code': 'it'}\n"
          ]
        }
      ]
    },
    {
      "cell_type": "code",
      "metadata": {
        "id": "NOjvFTI4IiO0"
      },
      "source": [
        ""
      ],
      "execution_count": null,
      "outputs": []
    }
  ]
}